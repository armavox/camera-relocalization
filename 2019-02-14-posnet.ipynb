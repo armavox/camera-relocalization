{
 "cells": [
  {
   "cell_type": "markdown",
   "metadata": {},
   "source": [
    "Camera Location Identifier\n",
    "==\n"
   ]
  },
  {
   "cell_type": "code",
   "execution_count": 1,
   "metadata": {
    "ExecuteTime": {
     "end_time": "2019-02-14T21:18:43.459682Z",
     "start_time": "2019-02-14T21:18:42.223275Z"
    }
   },
   "outputs": [],
   "source": [
    "import os\n",
    "import time\n",
    "import torch\n",
    "import torch.nn as nn\n",
    "import torch.nn.functional as F\n",
    "import torch.optim as opt\n",
    "from torch.utils.data import Dataset, DataLoader, SubsetRandomSampler, Subset\n",
    "\n",
    "from torchvision import transforms, datasets, models\n",
    "\n",
    "import numpy as np\n",
    "import pandas as pd\n",
    "from tqdm import tqdm\n",
    "from PIL import Image\n",
    "\n",
    "# pip install pretrainedmodels\n",
    "import pretrainedmodels\n",
    "\n",
    "import matplotlib.pyplot as plt\n",
    "plt.rcParams['patch.force_edgecolor'] = True\n",
    "%matplotlib inline\n",
    "\n",
    "device = torch.device(\"cuda:0\" if torch.cuda.is_available() else \"cpu\")\n",
    "# device = torch.device('cpu')"
   ]
  },
  {
   "cell_type": "code",
   "execution_count": 2,
   "metadata": {
    "ExecuteTime": {
     "end_time": "2019-02-14T21:18:43.484006Z",
     "start_time": "2019-02-14T21:18:43.460831Z"
    },
    "scrolled": false
   },
   "outputs": [
    {
     "name": "stdout",
     "output_type": "stream",
     "text": [
      "CPython 3.7.2\n",
      "IPython 7.2.0\n",
      "\n",
      "numpy 1.15.4\n",
      "pandas 0.23.4\n",
      "matplotlib 3.0.2\n",
      "torch 1.0.0\n",
      "\n",
      "compiler   : GCC 7.3.0\n",
      "system     : Linux\n",
      "release    : 4.15.0-36-generic\n",
      "machine    : x86_64\n",
      "processor  : x86_64\n",
      "CPU cores  : 6\n",
      "interpreter: 64bit\n"
     ]
    }
   ],
   "source": [
    "# pip install watermark\n",
    "%load_ext watermark\n",
    "%watermark -v -m -p numpy,pandas,matplotlib,torch"
   ]
  },
  {
   "cell_type": "code",
   "execution_count": 3,
   "metadata": {
    "ExecuteTime": {
     "end_time": "2019-02-14T21:18:43.487682Z",
     "start_time": "2019-02-14T21:18:43.485961Z"
    }
   },
   "outputs": [],
   "source": [
    "IMG_PATH = 'camera_relocalization_sample_dataset/images/'\n",
    "CSV_PATH = 'camera_relocalization_sample_dataset/info.csv'"
   ]
  },
  {
   "cell_type": "markdown",
   "metadata": {},
   "source": [
    "## Architecture / Transfer learning"
   ]
  },
  {
   "cell_type": "code",
   "execution_count": 4,
   "metadata": {
    "ExecuteTime": {
     "end_time": "2019-02-14T21:18:44.165498Z",
     "start_time": "2019-02-14T21:18:43.489101Z"
    },
    "scrolled": true
   },
   "outputs": [],
   "source": [
    "alex_features = pretrainedmodels.alexnet()._features"
   ]
  },
  {
   "cell_type": "code",
   "execution_count": 5,
   "metadata": {
    "ExecuteTime": {
     "end_time": "2019-02-14T21:18:44.168847Z",
     "start_time": "2019-02-14T21:18:44.166629Z"
    }
   },
   "outputs": [],
   "source": [
    "def count_input_neuron(model, image_dim):\n",
    "        return model(torch.rand(1, *(image_dim))).data.view(1, -1).size(1)"
   ]
  },
  {
   "cell_type": "code",
   "execution_count": 6,
   "metadata": {
    "ExecuteTime": {
     "end_time": "2019-02-14T21:18:44.225273Z",
     "start_time": "2019-02-14T21:18:44.169906Z"
    }
   },
   "outputs": [
    {
     "data": {
      "text/plain": [
       "16384"
      ]
     },
     "execution_count": 6,
     "metadata": {},
     "output_type": "execute_result"
    }
   ],
   "source": [
    "count_input_neuron(alex_features, (3, 299,299))"
   ]
  },
  {
   "cell_type": "code",
   "execution_count": 7,
   "metadata": {
    "ExecuteTime": {
     "end_time": "2019-02-14T21:18:44.244596Z",
     "start_time": "2019-02-14T21:18:44.226333Z"
    }
   },
   "outputs": [],
   "source": [
    "class TransferModel(nn.Module):\n",
    "    \"\"\"Contructor for pretrained model use.\n",
    "    \n",
    "    Parameters\n",
    "    ----------\n",
    "    pre_model : model\n",
    "        Preatrained model from `pretrainedmodels` package\n",
    "    image_dim : tuple if ints\n",
    "        tuple of the size of input image\n",
    "    \"\"\"\n",
    "    \n",
    "    def __init__(self, pre_model, image_dim):\n",
    "        super().__init__()\n",
    "        self.num_features_out = self.count_input_neuron(pre_model, image_dim)\n",
    "        self.features = nn.Sequential(*pre_model.children())\n",
    "        self.linear0 = nn.Linear(self.num_features_out, 4096)\n",
    "        self.linear1 = nn.Linear(4096, 2048)\n",
    "        \n",
    "        self.pos = nn.Linear(2048, 3, bias=False)\n",
    "        self.ori = nn.Linear(2048, 4, bias=False)\n",
    "\n",
    "    \n",
    "    def forward(self, x): \n",
    "        x = self.features(x)\n",
    "        x = x.view(x.size(0), -1)\n",
    "        x = F.relu(self.linear0(x))\n",
    "        x = F.dropout(x, training=self.training)\n",
    "        x = F.relu(self.linear1(x))\n",
    "        x = F.dropout(x, training=self.training)\n",
    "#         x = x.view(x.size(0), -1)\n",
    "        pos = self.pos(x)\n",
    "        ori = self.ori(x)\n",
    "\n",
    "        return pos, ori\n",
    "\n",
    "    \n",
    "    def count_input_neuron(self, model, image_dim):\n",
    "        return model(torch.rand(1, *(image_dim))).data.view(1, -1).size(1)"
   ]
  },
  {
   "cell_type": "code",
   "execution_count": 8,
   "metadata": {
    "ExecuteTime": {
     "end_time": "2019-02-14T21:18:46.470971Z",
     "start_time": "2019-02-14T21:18:44.245657Z"
    }
   },
   "outputs": [],
   "source": [
    "inceptionV3 = models.inception_v3(pretrained=True)"
   ]
  },
  {
   "cell_type": "code",
   "execution_count": 9,
   "metadata": {
    "ExecuteTime": {
     "end_time": "2019-02-14T21:18:46.480636Z",
     "start_time": "2019-02-14T21:18:46.472115Z"
    }
   },
   "outputs": [],
   "source": [
    "class PoseNet(nn.Module):\n",
    "    \"\"\" PoseNet using Inception V3 \"\"\"\n",
    "    def __init__(self, InceptionV3):\n",
    "        super(PoseNet, self).__init__()\n",
    "        self.base_model = InceptionV3\n",
    "\n",
    "        self.Conv2d_1a_3x3 = InceptionV3.Conv2d_1a_3x3\n",
    "        self.Conv2d_2a_3x3 = InceptionV3.Conv2d_2a_3x3\n",
    "        self.Conv2d_2b_3x3 = InceptionV3.Conv2d_2b_3x3\n",
    "        self.Conv2d_3b_1x1 = InceptionV3.Conv2d_3b_1x1\n",
    "        self.Conv2d_4a_3x3 = InceptionV3.Conv2d_4a_3x3\n",
    "        self.Mixed_5b = InceptionV3.Mixed_5b\n",
    "        self.Mixed_5c = InceptionV3.Mixed_5c\n",
    "        self.Mixed_5d = InceptionV3.Mixed_5d\n",
    "        self.Mixed_6a = InceptionV3.Mixed_6a\n",
    "        self.Mixed_6b = InceptionV3.Mixed_6b\n",
    "        self.Mixed_6c = InceptionV3.Mixed_6c\n",
    "        self.Mixed_6d = InceptionV3.Mixed_6d\n",
    "        self.Mixed_6e = InceptionV3.Mixed_6e\n",
    "        self.Mixed_7a = InceptionV3.Mixed_7a\n",
    "        self.Mixed_7b = InceptionV3.Mixed_7b\n",
    "        self.Mixed_7c = InceptionV3.Mixed_7c\n",
    "\n",
    "        # Out 2\n",
    "        self.pos = nn.Linear(2048, 3, bias=False)\n",
    "        self.ori = nn.Linear(2048, 4, bias=False)\n",
    "\n",
    "    def forward(self, x):\n",
    "        # 299 x 299 x 3\n",
    "        x = self.Conv2d_1a_3x3(x)\n",
    "        # 149 x 149 x 32\n",
    "        x = self.Conv2d_2a_3x3(x)\n",
    "        # 147 x 147 x 32\n",
    "        x = self.Conv2d_2b_3x3(x)\n",
    "        # 147 x 147 x 64\n",
    "        x = F.max_pool2d(x, kernel_size=3, stride=2)\n",
    "        # 73 x 73 x 64\n",
    "        x = self.Conv2d_3b_1x1(x)\n",
    "        # 73 x 73 x 80\n",
    "        x = self.Conv2d_4a_3x3(x)\n",
    "        # 71 x 71 x 192\n",
    "        x = F.max_pool2d(x, kernel_size=3, stride=2)\n",
    "        # 35 x 35 x 192\n",
    "        x = self.Mixed_5b(x)\n",
    "        # 35 x 35 x 256\n",
    "        x = self.Mixed_5c(x)\n",
    "        # 35 x 35 x 288\n",
    "        x = self.Mixed_5d(x)\n",
    "        # 35 x 35 x 288\n",
    "        x = self.Mixed_6a(x)\n",
    "        # 17 x 17 x 768\n",
    "        x = self.Mixed_6b(x)\n",
    "        # 17 x 17 x 768\n",
    "        x = self.Mixed_6c(x)\n",
    "        # 17 x 17 x 768\n",
    "        x = self.Mixed_6d(x)\n",
    "        # 17 x 17 x 768\n",
    "        x = self.Mixed_6e(x)\n",
    "        # 17 x 17 x 768\n",
    "        x = self.Mixed_7a(x)\n",
    "        # 8 x 8 x 1280\n",
    "        x = self.Mixed_7b(x)\n",
    "        # 8 x 8 x 2048\n",
    "        x = self.Mixed_7c(x)\n",
    "        # 8 x 8 x 2048\n",
    "        x = F.avg_pool2d(x, kernel_size=8)\n",
    "        # 1 x 1 x 2048\n",
    "        x = F.dropout(x, training=self.training)\n",
    "        # 1 x 1 x 2048\n",
    "        x = x.view(x.size(0), -1)\n",
    "        # 2048\n",
    "        pos = self.pos(x)\n",
    "        ori = self.ori(x)\n",
    "\n",
    "        return pos, ori"
   ]
  },
  {
   "cell_type": "markdown",
   "metadata": {},
   "source": [
    "## Dataset"
   ]
  },
  {
   "cell_type": "code",
   "execution_count": 10,
   "metadata": {
    "ExecuteTime": {
     "end_time": "2019-02-14T21:18:46.501762Z",
     "start_time": "2019-02-14T21:18:46.481642Z"
    }
   },
   "outputs": [],
   "source": [
    "class CameraDataset(Dataset):\n",
    "    \"\"\"Camera position dataset.\"\"\"\n",
    "\n",
    "    def __init__(self, csv_file, img_dir, transform=None):\n",
    "        \"\"\"\n",
    "        Parameters\n",
    "        ----------\n",
    "        csv_file : string\n",
    "            Path to the csv file with annotations.\n",
    "        root_dir : string\n",
    "            Directory with all the images.\n",
    "        transform : callable, optional\n",
    "            Optional transform to be applied\n",
    "            on a sample.\n",
    "        \"\"\"\n",
    "\n",
    "        self.dataframe = pd.read_csv(csv_file)\n",
    "        self.img_dir = img_dir\n",
    "        self.transform = transform\n",
    "\n",
    "    def __len__(self):\n",
    "        return len(self.dataframe)\n",
    "\n",
    "    def __getitem__(self, idx):\n",
    "        img_name = os.path.join(self.img_dir,\n",
    "                                self.dataframe['ImageFile'].at[idx])\n",
    "        image = Image.open(img_name)\n",
    "        coords = self.dataframe.iloc[idx, 3:10].values\n",
    "        coords = np.array(coords, dtype=np.float32)\n",
    "\n",
    "        if self.transform:\n",
    "            image = self.transform(image)\n",
    "            coords = torch.tensor(coords, dtype=torch.float)\n",
    "\n",
    "        sample = {'image': image, 'coords': coords}\n",
    "\n",
    "        return sample"
   ]
  },
  {
   "cell_type": "markdown",
   "metadata": {},
   "source": [
    "Default pretrained inceptionv3 net requires input of 3-channels RGB image of the size (3, 299, 299)."
   ]
  },
  {
   "cell_type": "code",
   "execution_count": 11,
   "metadata": {
    "ExecuteTime": {
     "end_time": "2019-02-14T21:18:46.520283Z",
     "start_time": "2019-02-14T21:18:46.502772Z"
    }
   },
   "outputs": [],
   "source": [
    "class ConvertPILMode():\n",
    "    \"\"\"Converts PIL image to \n",
    "        one of the supported modes: \n",
    "        - `L` - 1 channel - (grayscale)\n",
    "        - `RGB` - 3 channels\n",
    "        - `RGBA` - 4 channels\n",
    "        \"\"\"\n",
    "    \n",
    "    def __init__(self, mode):\n",
    "        self.mode = mode\n",
    "    def __call__(self, pil_image):\n",
    "        return pil_image.convert(mode=self.mode)"
   ]
  },
  {
   "cell_type": "code",
   "execution_count": 12,
   "metadata": {
    "ExecuteTime": {
     "end_time": "2019-02-14T21:18:46.537372Z",
     "start_time": "2019-02-14T21:18:46.521172Z"
    }
   },
   "outputs": [],
   "source": [
    "transform = transforms.Compose([\n",
    "    ConvertPILMode(mode='RGB'),\n",
    "    transforms.Resize((299,299)),\n",
    "    transforms.ToTensor()\n",
    "])"
   ]
  },
  {
   "cell_type": "code",
   "execution_count": 13,
   "metadata": {
    "ExecuteTime": {
     "end_time": "2019-02-14T21:18:46.553961Z",
     "start_time": "2019-02-14T21:18:46.538250Z"
    }
   },
   "outputs": [],
   "source": [
    "dataset = CameraDataset(CSV_PATH, IMG_PATH, transform=transform)\n",
    "\n",
    "# Small dataset for experiments\n",
    "small_ds_inds = np.random.choice(range(len(dataset)), size=int(len(dataset)*0.1),\n",
    "                replace=False)\n",
    "small_dataset = Subset(dataset, small_ds_inds)\n",
    "dataset = small_dataset"
   ]
  },
  {
   "cell_type": "markdown",
   "metadata": {},
   "source": [
    "We split dataset onto 3 subsets for training, validation and test"
   ]
  },
  {
   "cell_type": "code",
   "execution_count": 14,
   "metadata": {
    "ExecuteTime": {
     "end_time": "2019-02-14T21:18:46.567896Z",
     "start_time": "2019-02-14T21:18:46.556886Z"
    }
   },
   "outputs": [],
   "source": [
    "def train_val_holdout_split(dataset, ratios=[0.7,0.2,0.1]):\n",
    "    \"\"\"Return indices for subsets of the dataset.\n",
    "    \n",
    "    Parameters\n",
    "    ----------\n",
    "    dataset : torch.utils.data.Dataset\n",
    "        Dataset made with class which inherits `torch.utils.data.Dataset`\n",
    "    ratios : list of floats\n",
    "        List of [train, val, holdout] ratios respectively. Note, that sum of \n",
    "        values must be equal to 1. (train + val + holdout = 1.0)\n",
    "    \n",
    "    \"\"\"\n",
    "    \n",
    "    assert np.allclose(ratios[0] + ratios [1] + ratios[2], 1)\n",
    "    train_ratio = ratios[0]\n",
    "    val_ratio = ratios[1]\n",
    "    test_ratio = ratios[2]\n",
    "\n",
    "    df_size = len(dataset)\n",
    "    train_inds = np.random.choice(range(df_size), \n",
    "                                  size=int(df_size*train_ratio),\n",
    "                                  replace=False)\n",
    "    val_test_inds = list(set(range(df_size)) - set(train_inds))\n",
    "    val_inds = np.random.choice(val_test_inds,\n",
    "                                size=int(len(val_test_inds)*val_ratio/(val_ratio+test_ratio)),\n",
    "                                replace=False)\n",
    "\n",
    "    test_inds = np.asarray(list(set(val_test_inds) - set(val_inds)), dtype='int')\n",
    "    \n",
    "    assert len(list(set(train_inds) - set(val_inds) - set(test_inds))) == len(train_inds)\n",
    "    \n",
    "    return train_inds, val_inds, test_inds"
   ]
  },
  {
   "cell_type": "code",
   "execution_count": 15,
   "metadata": {
    "ExecuteTime": {
     "end_time": "2019-02-14T21:18:46.588890Z",
     "start_time": "2019-02-14T21:18:46.569605Z"
    }
   },
   "outputs": [],
   "source": [
    "train_ids, val_ids, test_ids = train_val_holdout_split(dataset, ratios=[0.9,0.05,0.05])\n",
    "\n",
    "train_sampler = SubsetRandomSampler(train_ids)\n",
    "val_sampler = SubsetRandomSampler(val_ids)\n",
    "test_sampler = Subset(dataset, test_ids) "
   ]
  },
  {
   "cell_type": "code",
   "execution_count": 16,
   "metadata": {
    "ExecuteTime": {
     "end_time": "2019-02-14T21:18:46.603092Z",
     "start_time": "2019-02-14T21:18:46.589819Z"
    }
   },
   "outputs": [],
   "source": [
    "train_loader = DataLoader(dataset, batch_size=8, sampler=train_sampler)\n",
    "val_loader = DataLoader(dataset, batch_size=32, sampler=val_sampler)\n",
    "test_loader = DataLoader(test_sampler)"
   ]
  },
  {
   "cell_type": "markdown",
   "metadata": {},
   "source": [
    "## Loss"
   ]
  },
  {
   "cell_type": "code",
   "execution_count": 17,
   "metadata": {
    "ExecuteTime": {
     "end_time": "2019-02-14T21:18:46.614229Z",
     "start_time": "2019-02-14T21:18:46.605380Z"
    }
   },
   "outputs": [],
   "source": [
    "def custom_loss(pos_pred, ori_pred, pos_true, ori_true, beta=500):\n",
    "    ori_true = F.normalize(ori_true)\n",
    "    loss_pos = pos_pred - pos_true\n",
    "    loss_ori = ori_pred - ori_true\n",
    "    loss = loss_pos.norm() + beta * loss_ori.norm()\n",
    "    return loss"
   ]
  },
  {
   "cell_type": "code",
   "execution_count": 18,
   "metadata": {
    "ExecuteTime": {
     "end_time": "2019-02-14T21:18:46.625522Z",
     "start_time": "2019-02-14T21:18:46.615442Z"
    }
   },
   "outputs": [],
   "source": [
    "class Loss(nn.Module):\n",
    "    def __init__(self, device, beta):\n",
    "        self.beta = beta\n",
    "        self.device = device\n",
    "    def __call__(self, pos_pred, ori_pred, pos_true, ori_true):\n",
    "#         pos_true = pos_true.to(self.device)\n",
    "#         ori_true = ori_true.to(device)\n",
    "        ori_true = F.normalize(ori_true)\n",
    "        loss_pos = pos_pred - pos_true\n",
    "        loss_ori = ori_pred - ori_true\n",
    "        loss = loss_pos.norm() + self.beta * loss_ori.norm()\n",
    "        return loss"
   ]
  },
  {
   "cell_type": "markdown",
   "metadata": {},
   "source": [
    "## Model Training"
   ]
  },
  {
   "cell_type": "code",
   "execution_count": 19,
   "metadata": {
    "ExecuteTime": {
     "end_time": "2019-02-14T21:18:47.117346Z",
     "start_time": "2019-02-14T21:18:46.626438Z"
    }
   },
   "outputs": [],
   "source": [
    "inceptionV3.aux_logits = False\n",
    "posenet = PoseNet(inceptionV3)\n",
    "alexnet = TransferModel(alex_features, (3, 299, 299))\n",
    "\n",
    "# fine tuning\n",
    "# for parameter in list(model.parameters())[:-2]:\n",
    "#     parameter.requires_grad = False\n",
    "\n",
    "loss_func =  Loss(device, beta=750)#Loss(device, beta=750) #nn.MSELoss()"
   ]
  },
  {
   "cell_type": "raw",
   "metadata": {
    "ExecuteTime": {
     "end_time": "2019-02-14T20:27:36.241767Z",
     "start_time": "2019-02-14T20:27:36.119576Z"
    }
   },
   "source": [
    "coords = next(iter(train_loader))['coords']\n",
    "\n",
    "image = next(iter(train_loader))['image']\n",
    "\n",
    "pos_target, ori_target = coords[:, :3], coords[:, 3:]\n",
    "\n",
    "pos_pred, ori_pred = alexnet(image)\n",
    "\n",
    "loss_func(pos_pred, ori_pred, pos_target, ori_target)"
   ]
  },
  {
   "cell_type": "code",
   "execution_count": 20,
   "metadata": {
    "ExecuteTime": {
     "end_time": "2019-02-14T21:18:47.128097Z",
     "start_time": "2019-02-14T21:18:47.118547Z"
    }
   },
   "outputs": [],
   "source": [
    "def fit(net, epochs, loss_func, train_loader, val_loader, device):\n",
    "    start_time = time.time()\n",
    "    print(f'Start training {epochs} epochs:')\n",
    "    optim = opt.Adam(net.parameters(), lr=0.0001)\n",
    "    train_sum_loss = []\n",
    "    val_sum_loss = []\n",
    "\n",
    "    for epoch in range(epochs):\n",
    "        train_loss = 0\n",
    "        net.train()\n",
    "        for i, batch in enumerate(train_loader):\n",
    "            optim.zero_grad()\n",
    "\n",
    "            img, coords = batch['image'].to(device), batch['coords'].to(device)\n",
    "            pos_pred, ori_pred = net(img)\n",
    "            pos_target, ori_target = coords[:, :3], coords[:, 3:] \n",
    "#             print(i, pos_pred, ori_pred.shape, pos_target, ori_target.shape)\n",
    "            loss = loss_func(pos_pred, ori_pred, pos_target, ori_target)\n",
    "#             print(loss)\n",
    "            loss.backward()\n",
    "            optim.step()\n",
    "            train_loss += loss\n",
    "        train_loss /= len(train_loader)\n",
    "        if epoch % 1 != 0:\n",
    "            print('Epoch: %04d Train loss: %.4f' % (epoch, train_loss.item()))\n",
    "\n",
    "        if epoch % 1 == 0:\n",
    "            net.eval()\n",
    "            with torch.no_grad():\n",
    "                val_loss = 0\n",
    "                for batch in val_loader:\n",
    "                    img, coords = batch['image'].to(device), batch['coords'].to(device)\n",
    "                    pos_pred, ori_pred = net(img)\n",
    "                    pos_target, ori_target = coords[:, :3], coords[:, 3:] \n",
    "                    val_loss += loss_func(pos_pred, ori_pred, pos_target, ori_target)\n",
    "                val_loss /= len(val_loader)\n",
    "\n",
    "                train_sum_loss.append(train_loss.item())\n",
    "                val_sum_loss.append(val_loss.item())\n",
    "\n",
    "            print('Epoch: %04d Train loss: %.4f | Val loss: %.4f' % (epoch, train_loss.item(), val_loss.item()))\n",
    "    \n",
    "    end_time = time.time()\n",
    "    hours, rem = divmod(end_time-start_time, 3600)\n",
    "    minutes, seconds = divmod(rem, 60)\n",
    "    print(\"Finished in {:0>2}:{:0>2}:{:05.2f}\".format(int(hours),int(minutes),seconds))\n",
    "\n",
    "    return train_sum_loss, val_sum_loss\n",
    "\n",
    "def test(net, test_lr):\n",
    "    net.eval()\n",
    "    with torch.no_grad():\n",
    "        test_loss = 0\n",
    "        for batch in test_loader:\n",
    "            img, coords = batch['image'].to(device), batch['coords'].to(device)\n",
    "            pos_pred, ori_pred = net(img)\n",
    "            pos_target, ori_target = coords[:, :3], coords[:, 3:] \n",
    "            test_loss += loss_func(pos_pred, ori_pred, pos_target, ori_target)\n",
    "        test_loss /= len(test_lr)\n",
    "    return test_loss.item()"
   ]
  },
  {
   "cell_type": "code",
   "execution_count": 21,
   "metadata": {
    "ExecuteTime": {
     "end_time": "2019-02-14T21:18:49.012343Z",
     "start_time": "2019-02-14T21:18:47.129193Z"
    }
   },
   "outputs": [
    {
     "name": "stdout",
     "output_type": "stream",
     "text": [
      "Using 2 GPUs\n",
      "Using 2 GPUs\n"
     ]
    }
   ],
   "source": [
    "def to_cuda(model, device):    \n",
    "    if torch.cuda.device_count() > 1:\n",
    "        print(\"Using\", torch.cuda.device_count(), \"GPUs\")\n",
    "          # dim = 0 [30, xxx] -> [10, ...], [10, ...], [10, ...] on 3 GPUs\n",
    "        model = nn.DataParallel(model)\n",
    "\n",
    "    model = model.to(device)\n",
    "\n",
    "to_cuda(posenet, device)\n",
    "to_cuda(alexnet, device)"
   ]
  },
  {
   "cell_type": "code",
   "execution_count": 22,
   "metadata": {
    "ExecuteTime": {
     "end_time": "2019-02-14T21:20:14.275974Z",
     "start_time": "2019-02-14T21:18:49.013562Z"
    },
    "scrolled": false
   },
   "outputs": [
    {
     "name": "stdout",
     "output_type": "stream",
     "text": [
      "Start training 30 epochs:\n",
      "Epoch: 0000 Train loss: 1962.0824 | Val loss: 1745.6990\n",
      "Epoch: 0001 Train loss: 1259.2808 | Val loss: 1565.7279\n",
      "Epoch: 0002 Train loss: 1102.7433 | Val loss: 1042.3821\n",
      "Epoch: 0003 Train loss: 1125.8831 | Val loss: 967.6781\n",
      "Epoch: 0004 Train loss: 969.2721 | Val loss: 1040.1288\n",
      "Epoch: 0005 Train loss: 888.9185 | Val loss: 925.1297\n",
      "Epoch: 0006 Train loss: 915.7120 | Val loss: 827.5421\n",
      "Epoch: 0007 Train loss: 800.8990 | Val loss: 824.9278\n",
      "Epoch: 0008 Train loss: 803.3761 | Val loss: 1198.3632\n",
      "Epoch: 0009 Train loss: 736.4291 | Val loss: 1006.3903\n",
      "Epoch: 0010 Train loss: 678.0361 | Val loss: 1104.8918\n",
      "Epoch: 0011 Train loss: 752.8188 | Val loss: 1221.1526\n",
      "Epoch: 0012 Train loss: 717.1215 | Val loss: 1135.3064\n",
      "Epoch: 0013 Train loss: 682.8262 | Val loss: 1235.9232\n",
      "Epoch: 0014 Train loss: 565.7497 | Val loss: 1096.6757\n",
      "Epoch: 0015 Train loss: 670.1803 | Val loss: 1287.8768\n",
      "Epoch: 0016 Train loss: 647.3893 | Val loss: 1188.3864\n",
      "Epoch: 0017 Train loss: 701.3444 | Val loss: 1252.6221\n",
      "Epoch: 0018 Train loss: 685.9691 | Val loss: 1126.2930\n",
      "Epoch: 0019 Train loss: 643.1430 | Val loss: 1201.1583\n",
      "Epoch: 0020 Train loss: 587.0365 | Val loss: 1115.0886\n",
      "Epoch: 0021 Train loss: 594.1996 | Val loss: 1067.5690\n",
      "Epoch: 0022 Train loss: 616.1324 | Val loss: 1224.0181\n",
      "Epoch: 0023 Train loss: 605.0400 | Val loss: 973.3849\n",
      "Epoch: 0024 Train loss: 549.1810 | Val loss: 1201.0521\n",
      "Epoch: 0025 Train loss: 584.9802 | Val loss: 839.1914\n",
      "Epoch: 0026 Train loss: 550.9004 | Val loss: 1019.6566\n",
      "Epoch: 0027 Train loss: 537.0411 | Val loss: 894.8578\n",
      "Epoch: 0028 Train loss: 533.6713 | Val loss: 1030.7029\n",
      "Epoch: 0029 Train loss: 507.5303 | Val loss: 1062.9948\n",
      "Finished in 00:01:25.26\n",
      "CPU times: user 1min 13s, sys: 11.7 s, total: 1min 25s\n",
      "Wall time: 1min 25s\n"
     ]
    }
   ],
   "source": [
    "%%time\n",
    "pos_tr, pos_val = fit(posenet, 30, loss_func, train_loader, val_loader, device)"
   ]
  },
  {
   "cell_type": "code",
   "execution_count": 23,
   "metadata": {
    "ExecuteTime": {
     "end_time": "2019-02-14T21:20:14.418656Z",
     "start_time": "2019-02-14T21:20:14.277342Z"
    }
   },
   "outputs": [
    {
     "name": "stdout",
     "output_type": "stream",
     "text": [
      "Test loss: 94.9991\n"
     ]
    }
   ],
   "source": [
    "posenet_test = test(posenet, test_loader)\n",
    "print('Test loss: {:.4f}'.format(posenet_test))"
   ]
  },
  {
   "cell_type": "code",
   "execution_count": 24,
   "metadata": {
    "ExecuteTime": {
     "end_time": "2019-02-14T21:20:14.574015Z",
     "start_time": "2019-02-14T21:20:14.419677Z"
    }
   },
   "outputs": [
    {
     "data": {
      "image/png": "[encoded data removed]",
      "text/plain": [
       "<Figure size 864x288 with 1 Axes>"
      ]
     },
     "metadata": {
      "image/png": {
       "height": 263,
       "width": 718
      },
      "needs_background": "light"
     },
     "output_type": "display_data"
    }
   ],
   "source": [
    "plt.figure(figsize=(12,4))\n",
    "plt.plot(pos_tr, label='Train')\n",
    "plt.plot(pos_val, label='Validation')\n",
    "plt.title('PosNet');"
   ]
  },
  {
   "cell_type": "code",
   "execution_count": 25,
   "metadata": {
    "ExecuteTime": {
     "end_time": "2019-02-14T21:21:30.003856Z",
     "start_time": "2019-02-14T21:20:14.575090Z"
    }
   },
   "outputs": [
    {
     "name": "stdout",
     "output_type": "stream",
     "text": [
      "Start training 50 epochs:\n",
      "Epoch: 0000 Train loss: 1574.9375 | Val loss: 1615.0944\n",
      "Epoch: 0001 Train loss: 1228.9703 | Val loss: 1212.7064\n",
      "Epoch: 0002 Train loss: 954.1685 | Val loss: 1244.6528\n",
      "Epoch: 0003 Train loss: 704.6237 | Val loss: 1246.7428\n",
      "Epoch: 0004 Train loss: 620.3747 | Val loss: 1123.1044\n",
      "Epoch: 0005 Train loss: 582.2372 | Val loss: 1031.7543\n",
      "Epoch: 0006 Train loss: 488.4972 | Val loss: 1192.4379\n",
      "Epoch: 0007 Train loss: 510.8408 | Val loss: 981.3312\n",
      "Epoch: 0008 Train loss: 449.2331 | Val loss: 926.6846\n",
      "Epoch: 0009 Train loss: 444.8989 | Val loss: 885.1039\n",
      "Epoch: 0010 Train loss: 484.9142 | Val loss: 943.2405\n",
      "Epoch: 0011 Train loss: 428.7126 | Val loss: 890.9655\n",
      "Epoch: 0012 Train loss: 434.6173 | Val loss: 1001.0005\n",
      "Epoch: 0013 Train loss: 426.1423 | Val loss: 975.7151\n",
      "Epoch: 0014 Train loss: 417.4395 | Val loss: 770.2079\n",
      "Epoch: 0015 Train loss: 422.4461 | Val loss: 961.0867\n",
      "Epoch: 0016 Train loss: 378.7542 | Val loss: 1084.1292\n",
      "Epoch: 0017 Train loss: 408.6379 | Val loss: 794.3203\n",
      "Epoch: 0018 Train loss: 358.8669 | Val loss: 803.8907\n",
      "Epoch: 0019 Train loss: 409.3814 | Val loss: 1056.9894\n",
      "Epoch: 0020 Train loss: 375.8291 | Val loss: 988.8863\n",
      "Epoch: 0021 Train loss: 370.7562 | Val loss: 1008.3847\n",
      "Epoch: 0022 Train loss: 330.4371 | Val loss: 766.5177\n",
      "Epoch: 0023 Train loss: 341.8248 | Val loss: 843.3906\n",
      "Epoch: 0024 Train loss: 336.9678 | Val loss: 818.3694\n",
      "Epoch: 0025 Train loss: 318.5932 | Val loss: 793.4108\n",
      "Epoch: 0026 Train loss: 322.1481 | Val loss: 1032.9783\n",
      "Epoch: 0027 Train loss: 396.6849 | Val loss: 837.2181\n",
      "Epoch: 0028 Train loss: 341.8250 | Val loss: 859.9327\n",
      "Epoch: 0029 Train loss: 398.2524 | Val loss: 1062.0970\n",
      "Epoch: 0030 Train loss: 323.4286 | Val loss: 851.9218\n",
      "Epoch: 0031 Train loss: 361.7971 | Val loss: 879.3586\n",
      "Epoch: 0032 Train loss: 372.5686 | Val loss: 922.3958\n",
      "Epoch: 0033 Train loss: 346.0087 | Val loss: 889.1260\n",
      "Epoch: 0034 Train loss: 352.3904 | Val loss: 771.1794\n",
      "Epoch: 0035 Train loss: 346.8980 | Val loss: 965.0555\n",
      "Epoch: 0036 Train loss: 342.3791 | Val loss: 842.1573\n",
      "Epoch: 0037 Train loss: 348.1108 | Val loss: 868.8702\n",
      "Epoch: 0038 Train loss: 340.9885 | Val loss: 862.9547\n",
      "Epoch: 0039 Train loss: 346.0980 | Val loss: 1000.5988\n",
      "Epoch: 0040 Train loss: 296.5028 | Val loss: 877.7234\n",
      "Epoch: 0041 Train loss: 308.6517 | Val loss: 1005.7469\n",
      "Epoch: 0042 Train loss: 387.3312 | Val loss: 862.4349\n",
      "Epoch: 0043 Train loss: 338.1928 | Val loss: 846.0756\n",
      "Epoch: 0044 Train loss: 332.9622 | Val loss: 789.0602\n",
      "Epoch: 0045 Train loss: 300.7716 | Val loss: 838.5139\n",
      "Epoch: 0046 Train loss: 306.6541 | Val loss: 980.1641\n",
      "Epoch: 0047 Train loss: 329.0071 | Val loss: 781.7543\n",
      "Epoch: 0048 Train loss: 330.0391 | Val loss: 889.0397\n",
      "Epoch: 0049 Train loss: 310.1659 | Val loss: 871.7321\n",
      "Finished in 00:01:15.43\n",
      "CPU times: user 1min 12s, sys: 2.47 s, total: 1min 15s\n",
      "Wall time: 1min 15s\n"
     ]
    }
   ],
   "source": [
    "%%time\n",
    "loss_custom = custom_loss\n",
    "al_tr, al_val = fit(alexnet, 50, loss_func, train_loader, val_loader, device)"
   ]
  },
  {
   "cell_type": "code",
   "execution_count": 26,
   "metadata": {
    "ExecuteTime": {
     "end_time": "2019-02-14T21:21:30.096112Z",
     "start_time": "2019-02-14T21:21:30.004962Z"
    }
   },
   "outputs": [
    {
     "name": "stdout",
     "output_type": "stream",
     "text": [
      "Test loss: 179.8907\n"
     ]
    }
   ],
   "source": [
    "alexnet_test = test(alexnet, test_loader)\n",
    "print('Test loss: {:.4f}'.format(alexnet_test))"
   ]
  },
  {
   "cell_type": "code",
   "execution_count": 27,
   "metadata": {
    "ExecuteTime": {
     "end_time": "2019-02-14T21:21:30.241629Z",
     "start_time": "2019-02-14T21:21:30.097081Z"
    }
   },
   "outputs": [
    {
     "data": {
      "image/png": "[encoded data removed]",
      "text/plain": [
       "<Figure size 864x288 with 1 Axes>"
      ]
     },
     "metadata": {
      "image/png": {
       "height": 263,
       "width": 718
      },
      "needs_background": "light"
     },
     "output_type": "display_data"
    }
   ],
   "source": [
    "plt.figure(figsize=(12,4))\n",
    "plt.plot(al_tr, label='Train')\n",
    "plt.plot(al_val, label='Validation')\n",
    "plt.title('AlexNet');"
   ]
  }
 ],
 "metadata": {
  "kernelspec": {
   "display_name": "Python 3.7 [pytorch]",
   "language": "python",
   "name": "pytorch"
  },
  "language_info": {
   "codemirror_mode": {
    "name": "ipython",
    "version": 3
   },
   "file_extension": ".py",
   "mimetype": "text/x-python",
   "name": "python",
   "nbconvert_exporter": "python",
   "pygments_lexer": "ipython3",
   "version": "3.7.2"
  },
  "toc": {
   "base_numbering": 1,
   "nav_menu": {},
   "number_sections": true,
   "sideBar": true,
   "skip_h1_title": false,
   "title_cell": "Table of Contents",
   "title_sidebar": "Contents",
   "toc_cell": false,
   "toc_position": {},
   "toc_section_display": true,
   "toc_window_display": false
  },
  "varInspector": {
   "cols": {
    "lenName": 16,
    "lenType": 16,
    "lenVar": 40
   },
   "kernels_config": {
    "python": {
     "delete_cmd_postfix": "",
     "delete_cmd_prefix": "del ",
     "library": "var_list.py",
     "varRefreshCmd": "print(var_dic_list())"
    },
    "r": {
     "delete_cmd_postfix": ") ",
     "delete_cmd_prefix": "rm(",
     "library": "var_list.r",
     "varRefreshCmd": "cat(var_dic_list()) "
    }
   },
   "types_to_exclude": [
    "module",
    "function",
    "builtin_function_or_method",
    "instance",
    "_Feature"
   ],
   "window_display": false
  }
 },
 "nbformat": 4,
 "nbformat_minor": 2
}
